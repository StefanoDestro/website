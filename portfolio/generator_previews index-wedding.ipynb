{
 "cells": [
  {
   "cell_type": "markdown",
   "metadata": {},
   "source": [
    "# ENGLISH VERSION"
   ]
  },
  {
   "cell_type": "code",
   "execution_count": 8,
   "metadata": {},
   "outputs": [
    {
     "name": "stdout",
     "output_type": "stream",
     "text": [
      "\n",
      "<div class=\"flo-block-listing-2__item flo-block-listing-2__item--text-over\">\n",
      "    <a class=\"flo-block-listing-2__item-link\" href=\"../martaluigi-wedding/index.html\">Marta & Luigi\n",
      "    </a>\n",
      "    <span class=\"flo-block-listing-2__featured-image-wrap\">\n",
      "        <img class=\"flo-block-listing-2__featured-image\" width=\"413\" height=\"349\"\n",
      "            data-src=\"../images/portfolio/martaluigi/martaluigi_59.jpg\"\n",
      "            sizes=\"(max-width: 768px) 370px, (max-width: 1024px) 273.5px, 100vw\" />\n",
      "        <span class=\"flo-block-listing-2__overlay\"></span>\n",
      "    </span>\n",
      "    <span class=\"flo-block-listing-2__text-area flo-block-listing-2__text-area--text-over\">\n",
      "        <a class=\"flo-block-listing-2__title\" href=\"../martaluigi-wedding/index.html\"\n",
      "            data-font='title_1/xsmall'>\n",
      "            Marta & Luigi\n",
      "        </a>\n",
      "    </span>\n",
      "</div>\n",
      "\n"
     ]
    }
   ],
   "source": [
    "def replace_names(code_snippet, bride_name, groom_name):\n",
    "    # Concatenate bride and groom names\n",
    "    combined_names = bride_name + groom_name\n",
    "\n",
    "    # Replace occurrences of \"silviafrancesco\" with combined names\n",
    "    modified_code = code_snippet.replace(\"silviafrancesco\", combined_names)\n",
    "\n",
    "    # Replace occurrences of \"Silvia & Francesco\" with bride and groom names\n",
    "    modified_code = modified_code.replace(\"Silvia & Francesco\", f\"{bride_name.capitalize()} & {groom_name.capitalize()}\")\n",
    "\n",
    "    return modified_code\n",
    "\n",
    "# Example code snippet\n",
    "code_snippet = '''\n",
    "<div class=\"flo-block-listing-2__item flo-block-listing-2__item--text-over\">\n",
    "    <a class=\"flo-block-listing-2__item-link\" href=\"../silviafrancesco-wedding/index.html\">Silvia & Francesco\n",
    "    </a>\n",
    "    <span class=\"flo-block-listing-2__featured-image-wrap\">\n",
    "        <img class=\"flo-block-listing-2__featured-image\" width=\"413\" height=\"349\"\n",
    "            data-src=\"../images/portfolio/silviafrancesco/silviafrancesco_59.jpg\"\n",
    "            sizes=\"(max-width: 768px) 370px, (max-width: 1024px) 273.5px, 100vw\" />\n",
    "        <span class=\"flo-block-listing-2__overlay\"></span>\n",
    "    </span>\n",
    "    <span class=\"flo-block-listing-2__text-area flo-block-listing-2__text-area--text-over\">\n",
    "        <a class=\"flo-block-listing-2__title\" href=\"../silviafrancesco-wedding/index.html\"\n",
    "            data-font='title_1/xsmall'>\n",
    "            Silvia & Francesco\n",
    "        </a>\n",
    "    </span>\n",
    "</div>\n",
    "'''\n",
    "\n",
    "# Get user inputs for bride and groom names\n",
    "bride_name = input(\"Enter the bride's name (in small case): \")\n",
    "groom_name = input(\"Enter the groom's name (in small case): \")\n",
    "\n",
    "# Replace names in the code snippet\n",
    "modified_code = replace_names(code_snippet, bride_name, groom_name)\n",
    "\n",
    "# Print the modified code\n",
    "print(modified_code)\n"
   ]
  },
  {
   "cell_type": "markdown",
   "metadata": {},
   "source": [
    "# ITALIAN VERSION"
   ]
  },
  {
   "cell_type": "code",
   "execution_count": 17,
   "metadata": {},
   "outputs": [
    {
     "name": "stdout",
     "output_type": "stream",
     "text": [
      "\n",
      "      <div class=\"flo-block-listing-2__item flo-block-listing-2__item--text-over\">\n",
      "                <a class=\"flo-block-listing-2__item-link\" href=\"../martaluigi-wedding/indexita.html\">Marta & Luigi</a>\n",
      "                <span class=\"flo-block-listing-2__featured-image-wrap\">\n",
      "                  <img class=\"flo-block-listing-2__featured-image\" width=\"413\" height=\"349\"\n",
      "                    data-src=\"../images/portfolio/martaluigi/martaluigi_59.jpg\"\n",
      "                    sizes=\"(max-width: 768px) 370px, (max-width: 1024px) 273.5px, 100vw\" />\n",
      "                  <span class=\"flo-block-listing-2__overlay\"></span>\n",
      "                </span>\n",
      "                <span class=\"flo-block-listing-2__text-area flo-block-listing-2__text-area--text-over\">\n",
      "                  <a class=\"flo-block-listing-2__title\" href=\"../martaluigi-wedding/indexita.html\"\n",
      "                    data-font='title_1/xsmall'>\n",
      "                    Marta & Luigi\n",
      "                  </a>\n",
      "                </span>\n",
      "              </div>\n",
      "\n"
     ]
    }
   ],
   "source": [
    "def replace_names(code_snippet, bride_name, groom_name):\n",
    "    # Concatenate bride and groom names\n",
    "    combined_names = bride_name + groom_name\n",
    "\n",
    "    # Replace occurrences of \"silviafrancesco\" with combined names\n",
    "    modified_code = code_snippet.replace(\"silviafrancesco\", combined_names)\n",
    "\n",
    "    # Replace occurrences of \"Silvia & Francesco\" with bride and groom names\n",
    "    modified_code = modified_code.replace(\"Silvia & Francesco\", f\"{bride_name.capitalize()} & {groom_name.capitalize()}\")\n",
    "\n",
    "    return modified_code\n",
    "\n",
    "# Example code snippet\n",
    "code_snippet = '''\n",
    "      <div class=\"flo-block-listing-2__item flo-block-listing-2__item--text-over\">\n",
    "                <a class=\"flo-block-listing-2__item-link\" href=\"../silviafrancesco-wedding/indexita.html\">Silvia & Francesco</a>\n",
    "                <span class=\"flo-block-listing-2__featured-image-wrap\">\n",
    "                  <img class=\"flo-block-listing-2__featured-image\" width=\"413\" height=\"349\"\n",
    "                    data-src=\"../images/portfolio/silviafrancesco/silviafrancesco_59.jpg\"\n",
    "                    sizes=\"(max-width: 768px) 370px, (max-width: 1024px) 273.5px, 100vw\" />\n",
    "                  <span class=\"flo-block-listing-2__overlay\"></span>\n",
    "                </span>\n",
    "                <span class=\"flo-block-listing-2__text-area flo-block-listing-2__text-area--text-over\">\n",
    "                  <a class=\"flo-block-listing-2__title\" href=\"../silviafrancesco-wedding/indexita.html\"\n",
    "                    data-font='title_1/xsmall'>\n",
    "                    Silvia & Francesco\n",
    "                  </a>\n",
    "                </span>\n",
    "              </div>\n",
    "'''\n",
    "\n",
    "# Get user inputs for bride and groom names\n",
    "bride_name = input(\"Enter the bride's name (in small case): \")\n",
    "groom_name = input(\"Enter the groom's name (in small case): \")\n",
    "\n",
    "# Replace names in the code snippet\n",
    "modified_code = replace_names(code_snippet, bride_name, groom_name)\n",
    "\n",
    "# Print the modified code\n",
    "print(modified_code)\n",
    "\n",
    "\n"
   ]
  }
 ],
 "metadata": {
  "kernelspec": {
   "display_name": "Python 3",
   "language": "python",
   "name": "python3"
  },
  "language_info": {
   "codemirror_mode": {
    "name": "ipython",
    "version": 3
   },
   "file_extension": ".py",
   "mimetype": "text/x-python",
   "name": "python",
   "nbconvert_exporter": "python",
   "pygments_lexer": "ipython3",
   "version": "3.12.0"
  }
 },
 "nbformat": 4,
 "nbformat_minor": 2
}
